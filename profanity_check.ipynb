{
 "cells": [
  {
   "cell_type": "code",
   "execution_count": 209,
   "id": "2476084a",
   "metadata": {},
   "outputs": [],
   "source": [
    "\n",
    "# importing libraries\n",
    "import re   #for particular string matches a given regular expression\n",
    "import pandas as pd #for creating dataframe\n",
    "\n",
    "bad_words = pd.read_csv('/home/sunil/data-engineer/sunil twitter sentimental analysis/word.txt') #reading slur word containing  input file\n",
    "list_of_bad_words=bad_words.iloc[3:,1].str.replace(',','').astype(str).values.tolist()#convert file in list \n",
    "t_list='/home/sunil/data-engineer/sunil twitter sentimental analysis/tweets_list.txt' #given path of file to veriable that containing user tweets\n",
    "\n",
    "def tokenize(text):\n",
    "    return re.findall(r'\\w+', text) #create function to tokenize tweets\n",
    "\n",
    "\n",
    "def profanity_check(blocked_words, tweets):\n",
    "    with open(tweets,'r') as quotes:  # open file\n",
    "        for line in quotes:  # parse it line by line\n",
    "            line = line.lower()\n",
    "            tokens = tokenize(line)\n",
    "            degree_of_profanity = sum(1 for t in tokens if t in blocked_words) / len(tokens)\n",
    "            print(degree_of_profanity)"
   ]
  },
  {
   "cell_type": "code",
   "execution_count": 210,
   "id": "99f08f9e",
   "metadata": {},
   "outputs": [
    {
     "name": "stdout",
     "output_type": "stream",
     "text": [
      "0.0\n",
      "0.15384615384615385\n",
      "0.0\n",
      "0.5\n",
      "0.5\n",
      "0.42857142857142855\n"
     ]
    }
   ],
   "source": [
    "profanity_check(list_of_bad_words, t_list)"
   ]
  }
 ],
 "metadata": {
  "kernelspec": {
   "display_name": "Python 3 (ipykernel)",
   "language": "python",
   "name": "python3"
  },
  "language_info": {
   "codemirror_mode": {
    "name": "ipython",
    "version": 3
   },
   "file_extension": ".py",
   "mimetype": "text/x-python",
   "name": "python",
   "nbconvert_exporter": "python",
   "pygments_lexer": "ipython3",
   "version": "3.10.6"
  }
 },
 "nbformat": 4,
 "nbformat_minor": 5
}
